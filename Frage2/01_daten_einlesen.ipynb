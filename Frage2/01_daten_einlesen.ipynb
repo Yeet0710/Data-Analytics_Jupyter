{
 "cells": [
  {
   "cell_type": "markdown",
   "id": "c649b7bc",
   "metadata": {},
   "source": [
    "\n",
    "# Frage 2 – Notebook 01: Daten einlesen\n",
    "\n",
    "Dieses Notebook lädt die **Rohdaten** für die Zahlungsarten-Analyse (online & stationär) und die Umfrage.\n",
    "Es speichert die unbearbeiteten Tabellen als CSV-Zwischenstände für die weiteren Notebooks.\n"
   ]
  },
  {
   "cell_type": "markdown",
   "id": "c375ec2b",
   "metadata": {},
   "source": [
    "## Pfade & Imports"
   ]
  },
  {
   "cell_type": "code",
   "id": "19ed0d47",
   "metadata": {
    "ExecuteTime": {
     "end_time": "2025-08-31T09:39:03.637711Z",
     "start_time": "2025-08-31T09:39:03.185966Z"
    }
   },
   "source": [
    "\n",
    "from pathlib import Path\n",
    "import pandas as pd\n",
    "\n",
    "# Projekt-Root ermitteln (ggf. anpassen)\n",
    "project_root = Path(\"D:/JupyterProject\")\n",
    "\n",
    "# Datenordner\n",
    "data_path = project_root / \"data\"\n",
    "\n",
    "pd.set_option(\"display.width\", 140)\n",
    "pd.set_option(\"display.max_rows\", 10)\n"
   ],
   "outputs": [],
   "execution_count": 1
  },
  {
   "cell_type": "markdown",
   "id": "3197e0d4",
   "metadata": {},
   "source": [
    "## 1) Online-Zahlungsarten (2019/2021/2023)"
   ]
  },
  {
   "cell_type": "code",
   "id": "3c27f5e5",
   "metadata": {
    "ExecuteTime": {
     "end_time": "2025-08-31T09:39:03.937021Z",
     "start_time": "2025-08-31T09:39:03.649543Z"
    }
   },
   "source": [
    "\n",
    "df2019 = pd.read_excel(data_path / \"Online Zahlungsarten 2019.xlsx\",\n",
    "                       skiprows=4, sheet_name=1, usecols=\"B:C\",\n",
    "                       names=[\"Methode\", \"Prozent\"])\n",
    "df2021 = pd.read_excel(data_path / \"Online Zahlungsarten 2021.xlsx\",\n",
    "                       skiprows=4, sheet_name=1, usecols=\"B:C\",\n",
    "                       names=[\"Methode\", \"Prozent\"])\n",
    "df2023 = pd.read_excel(data_path / \"Online Zahlungsarten 2023.xlsx\",\n",
    "                       skiprows=4, sheet_name=1, usecols=\"B:C\",\n",
    "                       names=[\"Methode\", \"Prozent\"])\n",
    "\n",
    "print(\"2019:\", df2019.shape, \"2021:\", df2021.shape, \"2023:\", df2023.shape)\n",
    "df2019.head(), df2021.head(), df2023.head()\n"
   ],
   "outputs": [
    {
     "name": "stdout",
     "output_type": "stream",
     "text": [
      "2019: (7, 2) 2021: (8, 2) 2023: (16, 2)\n"
     ]
    },
    {
     "data": {
      "text/plain": [
       "(                                        Methode  Prozent\n",
       " 0  Über einen Bezahldienstleister (z.B. Paypal)     42.1\n",
       " 1                                      Rechnung     28.5\n",
       " 2                                   Kreditkarte     10.1\n",
       " 3                               Per Überweisung      7.8\n",
       " 4                               Per Lastschrift      5.7,\n",
       "                      Methode  Prozent\n",
       " 0                  E-Wallets       39\n",
       " 1               Auf Rechnung       23\n",
       " 2  Bezahlung mit Kreditkarte       10\n",
       " 3          SEPA-Direktmandat        8\n",
       " 4            Online-Transfer        6,\n",
       "                                             Methode  Prozent\n",
       " 0                         E-Wallet (Paypal, Alipay)       65\n",
       " 1                     Per Rechnung (und Zahlschein)       43\n",
       " 2                                            Klarna       28\n",
       " 3  Kreditkarte einer inländischen Bank / Debitkarte       28\n",
       " 4                                 Visa / Mastercard       26)"
      ]
     },
     "execution_count": 2,
     "metadata": {},
     "output_type": "execute_result"
    }
   ],
   "execution_count": 2
  },
  {
   "cell_type": "markdown",
   "id": "eb42ddd7",
   "metadata": {},
   "source": [
    "## 2) Stationärer Handel – Anteile Zahlungsarten"
   ]
  },
  {
   "cell_type": "code",
   "id": "da608f20",
   "metadata": {
    "ExecuteTime": {
     "end_time": "2025-08-31T09:39:04.003362Z",
     "start_time": "2025-08-31T09:39:03.969753Z"
    }
   },
   "source": [
    "\n",
    "stationär = pd.read_excel(\n",
    "    data_path / \"Anteile von Zahlungsarten.xlsx\",\n",
    "    skiprows=4, sheet_name=1, usecols=\"B:J\",\n",
    "    names=[\"Jahr\",\"Bar\",\"Girocard\",\"Kreditkarte\",\"Lastschrift\",\"Sonstige\",\"Rechnung\",\"Maestro/V-Pay\",\"Handelskarte\"]\n",
    ")\n",
    "stationär.head(3)\n"
   ],
   "outputs": [
    {
     "data": {
      "text/plain": [
       "   Jahr   Bar  Girocard  Kreditkarte  Lastschrift  Sonstige  Rechnung  Maestro/V-Pay  Handelskarte\n",
       "0  2016  51.3      24.3          6.1         13.4       0.6       2.5            0.9           0.6\n",
       "1  2017  50.0      26.3          6.5         12.6       0.6       2.5            0.9           0.6\n",
       "2  2018  48.3      30.1          6.9         10.0       0.6       2.5            1.0           0.6"
      ],
      "text/html": [
       "<div>\n",
       "<style scoped>\n",
       "    .dataframe tbody tr th:only-of-type {\n",
       "        vertical-align: middle;\n",
       "    }\n",
       "\n",
       "    .dataframe tbody tr th {\n",
       "        vertical-align: top;\n",
       "    }\n",
       "\n",
       "    .dataframe thead th {\n",
       "        text-align: right;\n",
       "    }\n",
       "</style>\n",
       "<table border=\"1\" class=\"dataframe\">\n",
       "  <thead>\n",
       "    <tr style=\"text-align: right;\">\n",
       "      <th></th>\n",
       "      <th>Jahr</th>\n",
       "      <th>Bar</th>\n",
       "      <th>Girocard</th>\n",
       "      <th>Kreditkarte</th>\n",
       "      <th>Lastschrift</th>\n",
       "      <th>Sonstige</th>\n",
       "      <th>Rechnung</th>\n",
       "      <th>Maestro/V-Pay</th>\n",
       "      <th>Handelskarte</th>\n",
       "    </tr>\n",
       "  </thead>\n",
       "  <tbody>\n",
       "    <tr>\n",
       "      <th>0</th>\n",
       "      <td>2016</td>\n",
       "      <td>51.3</td>\n",
       "      <td>24.3</td>\n",
       "      <td>6.1</td>\n",
       "      <td>13.4</td>\n",
       "      <td>0.6</td>\n",
       "      <td>2.5</td>\n",
       "      <td>0.9</td>\n",
       "      <td>0.6</td>\n",
       "    </tr>\n",
       "    <tr>\n",
       "      <th>1</th>\n",
       "      <td>2017</td>\n",
       "      <td>50.0</td>\n",
       "      <td>26.3</td>\n",
       "      <td>6.5</td>\n",
       "      <td>12.6</td>\n",
       "      <td>0.6</td>\n",
       "      <td>2.5</td>\n",
       "      <td>0.9</td>\n",
       "      <td>0.6</td>\n",
       "    </tr>\n",
       "    <tr>\n",
       "      <th>2</th>\n",
       "      <td>2018</td>\n",
       "      <td>48.3</td>\n",
       "      <td>30.1</td>\n",
       "      <td>6.9</td>\n",
       "      <td>10.0</td>\n",
       "      <td>0.6</td>\n",
       "      <td>2.5</td>\n",
       "      <td>1.0</td>\n",
       "      <td>0.6</td>\n",
       "    </tr>\n",
       "  </tbody>\n",
       "</table>\n",
       "</div>"
      ]
     },
     "execution_count": 3,
     "metadata": {},
     "output_type": "execute_result"
    }
   ],
   "execution_count": 3
  },
  {
   "cell_type": "markdown",
   "id": "238f2dcb",
   "metadata": {},
   "source": [
    "## 3) Umfrage – Zahlungsarten & BNPL-Veränderung"
   ]
  },
  {
   "cell_type": "code",
   "id": "ad06938c",
   "metadata": {
    "ExecuteTime": {
     "end_time": "2025-08-31T09:39:04.154365Z",
     "start_time": "2025-08-31T09:39:04.094716Z"
    }
   },
   "source": [
    "\n",
    "umf = pd.read_excel(\n",
    "    data_path / \"Umfrage.xlsx\",\n",
    "    usecols=\"AP:AQ\",\n",
    "    names=[\"Zahlungsarten\",\"BNPL_Veraenderung\"]\n",
    ")\n",
    "umf.head(5)\n"
   ],
   "outputs": [
    {
     "data": {
      "text/plain": [
       "                  Zahlungsarten               BNPL_Veraenderung\n",
       "0     PayPal;Sofortüberweisung;  Ich habe BNPL noch nie genutzt\n",
       "1           PayPal;Kreditkarte;  Ich habe BNPL noch nie genutzt\n",
       "2             PayPal;Apple Pay;  Ich habe BNPL noch nie genutzt\n",
       "3  Rechnung;Kreditkarte;PayPal;  Ich habe BNPL noch nie genutzt\n",
       "4           PayPal;Lastschrift;  Ich habe BNPL noch nie genutzt"
      ],
      "text/html": [
       "<div>\n",
       "<style scoped>\n",
       "    .dataframe tbody tr th:only-of-type {\n",
       "        vertical-align: middle;\n",
       "    }\n",
       "\n",
       "    .dataframe tbody tr th {\n",
       "        vertical-align: top;\n",
       "    }\n",
       "\n",
       "    .dataframe thead th {\n",
       "        text-align: right;\n",
       "    }\n",
       "</style>\n",
       "<table border=\"1\" class=\"dataframe\">\n",
       "  <thead>\n",
       "    <tr style=\"text-align: right;\">\n",
       "      <th></th>\n",
       "      <th>Zahlungsarten</th>\n",
       "      <th>BNPL_Veraenderung</th>\n",
       "    </tr>\n",
       "  </thead>\n",
       "  <tbody>\n",
       "    <tr>\n",
       "      <th>0</th>\n",
       "      <td>PayPal;Sofortüberweisung;</td>\n",
       "      <td>Ich habe BNPL noch nie genutzt</td>\n",
       "    </tr>\n",
       "    <tr>\n",
       "      <th>1</th>\n",
       "      <td>PayPal;Kreditkarte;</td>\n",
       "      <td>Ich habe BNPL noch nie genutzt</td>\n",
       "    </tr>\n",
       "    <tr>\n",
       "      <th>2</th>\n",
       "      <td>PayPal;Apple Pay;</td>\n",
       "      <td>Ich habe BNPL noch nie genutzt</td>\n",
       "    </tr>\n",
       "    <tr>\n",
       "      <th>3</th>\n",
       "      <td>Rechnung;Kreditkarte;PayPal;</td>\n",
       "      <td>Ich habe BNPL noch nie genutzt</td>\n",
       "    </tr>\n",
       "    <tr>\n",
       "      <th>4</th>\n",
       "      <td>PayPal;Lastschrift;</td>\n",
       "      <td>Ich habe BNPL noch nie genutzt</td>\n",
       "    </tr>\n",
       "  </tbody>\n",
       "</table>\n",
       "</div>"
      ]
     },
     "execution_count": 4,
     "metadata": {},
     "output_type": "execute_result"
    }
   ],
   "execution_count": 4
  },
  {
   "cell_type": "markdown",
   "id": "762b6f28",
   "metadata": {},
   "source": [
    "## 4) Persistieren (roh)"
   ]
  },
  {
   "cell_type": "code",
   "id": "7998fae0",
   "metadata": {
    "ExecuteTime": {
     "end_time": "2025-08-31T09:39:04.426623Z",
     "start_time": "2025-08-31T09:39:04.409765Z"
    }
   },
   "source": [
    "\n",
    "out = project_root / \"Frage2\"\n",
    "out.mkdir(exist_ok=True, parents=True)\n",
    "\n",
    "df2019.to_csv(out / \"online2019_raw.csv\", index=False)\n",
    "df2021.to_csv(out / \"online2021_raw.csv\", index=False)\n",
    "df2023.to_csv(out / \"online2023_raw.csv\", index=False)\n",
    "stationär.to_csv(out / \"stationaer_raw.csv\", index=False)\n",
    "umf.to_csv(out / \"umfrage_raw.csv\", index=False)\n",
    "\n",
    "print(\"Gespeichert nach:\", out)\n"
   ],
   "outputs": [
    {
     "name": "stdout",
     "output_type": "stream",
     "text": [
      "Gespeichert nach: D:\\JupyterProject\\Frage2\n"
     ]
    }
   ],
   "execution_count": 5
  }
 ],
 "metadata": {
  "kernelspec": {
   "name": "python3",
   "language": "python",
   "display_name": "Python 3 (ipykernel)"
  }
 },
 "nbformat": 4,
 "nbformat_minor": 5
}
