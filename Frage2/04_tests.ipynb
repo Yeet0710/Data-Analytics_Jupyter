{
 "cells": [
  {
   "cell_type": "markdown",
   "id": "955c6704",
   "metadata": {},
   "source": [
    "\n",
    "# Frage 2 – Notebook 04: Tests\n",
    "\n",
    "Dieses Notebook prüft:\n",
    "- **Chi²-Test**: Unterscheidet sich die Verteilung der Zahlungsarten (Umfrage) **signifikant** von Statista 2023?\n",
    "- (Optional) Einfache Auswertung BNPL-Veränderung (deskriptiv).\n"
   ]
  },
  {
   "cell_type": "markdown",
   "id": "71e79776",
   "metadata": {},
   "source": [
    "## Pfade & Imports"
   ]
  },
  {
   "cell_type": "code",
   "id": "8ec87d05",
   "metadata": {
    "ExecuteTime": {
     "end_time": "2025-08-31T09:40:33.981890Z",
     "start_time": "2025-08-31T09:40:32.954610Z"
    }
   },
   "source": [
    "\n",
    "from pathlib import Path\n",
    "import numpy as np\n",
    "import pandas as pd\n",
    "from scipy.stats import chi2_contingency\n",
    "\n",
    "# Projekt-Root\n",
    "project_root = Path(\"D:/JupyterProject\")\n",
    "out = project_root / \"Frage2\"\n",
    "\n",
    "umf_methods = pd.read_csv(out / \"umfrage_methods_norm.csv\").set_index(\"Kategorie\")\n",
    "online = pd.read_csv(out / \"online_normalisiert.csv\").set_index(\"Kategorie\")\n"
   ],
   "outputs": [],
   "execution_count": 1
  },
  {
   "cell_type": "markdown",
   "id": "1972417c",
   "metadata": {},
   "source": [
    "## 1) Chi²-Test – Umfrage vs. Statista 2023"
   ]
  },
  {
   "cell_type": "code",
   "id": "852fa8b0",
   "metadata": {
    "ExecuteTime": {
     "end_time": "2025-08-31T09:40:34.004226Z",
     "start_time": "2025-08-31T09:40:33.991812Z"
    }
   },
   "source": [
    "\n",
    "merged = umf_methods.join(online[[\"pct_2023\"]], how=\"outer\").fillna(0)\n",
    "\n",
    "# Fokus-Kategorien (wie in den Plots)\n",
    "rename_short = {\n",
    "    \"Überweisung/Online-Transfer\":\"Überweisung\",\n",
    "    \"Lastschrift/SEPA\":\"Lastschrift\",\n",
    "    \"E-Wallet\":\"E-Wallet (PayPal)\"\n",
    "}\n",
    "merged.index = merged.index.map(lambda s: rename_short.get(s, s))\n",
    "\n",
    "focus = [\"E-Wallet (PayPal)\",\"Kreditkarte\",\"Rechnung\",\"Lastschrift\",\"Überweisung\",\"Mobile Wallet\",\"BNPL (Klarna)\"]\n",
    "m = merged.reindex(focus).fillna(0)\n",
    "\n",
    "# Chi² braucht Zählwerte: skaliere Statista-% auf Umfrageumfang N\n",
    "N = int(umf_methods[\"Anzahl\"].sum())\n",
    "umf_counts = np.rint(m[\"Anzahl\"].to_numpy())\n",
    "stat_counts = np.rint(m[\"pct_2023\"].to_numpy() / 100.0 * N)\n",
    "\n",
    "cont = np.vstack([umf_counts, stat_counts]).astype(float)\n",
    "\n",
    "# Spalten entfernen, die in beiden Gruppen 0 sind\n",
    "keep = ~(np.logical_and(cont[0] == 0, cont[1] == 0))\n",
    "cont = cont[:, keep]\n",
    "\n",
    "# kleine Korrektur, falls 0-Zellen existieren\n",
    "if (cont == 0).any():\n",
    "    cont += 0.5\n",
    "\n",
    "chi2, p, dof, exp = chi2_contingency(cont)\n",
    "print(f\"Chi²={chi2:.2f}, df={dof}, p={p:.4f}\")\n",
    "if p < 0.05:\n",
    "    print(\"→ Verteilungen unterscheiden sich signifikant (5%-Niveau).\")\n",
    "else:\n",
    "    print(\"→ Kein signifikanter Unterschied (5%-Niveau).\")    \n"
   ],
   "outputs": [
    {
     "name": "stdout",
     "output_type": "stream",
     "text": [
      "Chi²=9.32, df=6, p=0.1562\n",
      "→ Kein signifikanter Unterschied (5%-Niveau).\n"
     ]
    }
   ],
   "execution_count": 2
  }
 ],
 "metadata": {
  "kernelspec": {
   "name": "python3",
   "language": "python",
   "display_name": "Python 3 (ipykernel)"
  }
 },
 "nbformat": 4,
 "nbformat_minor": 5
}
