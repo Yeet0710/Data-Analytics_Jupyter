{
 "cells": [
  {
   "cell_type": "markdown",
   "id": "febb70e7",
   "metadata": {},
   "source": [
    "\n",
    "# Frage 1 – Notebook 04: Tests & Auswertung\n",
    "\n",
    "Dieses Notebook führt die **statistischen Tests** durch und druckt die Kernaussagen:\n",
    "- **Binomialtest**: Ob die Mehrheit der Befragten einen *Anstieg* des Warenkorbwerts wahrnimmt.\n",
    "- Zusätzliche Kennzahlen: 5‑Jahres‑Wachstum nominal/real.\n"
   ]
  },
  {
   "cell_type": "code",
   "id": "d07810f1",
   "metadata": {
    "ExecuteTime": {
     "end_time": "2025-08-31T09:35:08.140677Z",
     "start_time": "2025-08-31T09:35:08.125434Z"
    }
   },
   "source": [
    "\n",
    "import pandas as pd\n",
    "import numpy as np\n",
    "from scipy.stats import binomtest\n",
    "from pathlib import Path\n",
    "\n",
    "root = Path.cwd()\n",
    "df5 = pd.read_csv(root / \"warenkorb_auswertung_5J.csv\")\n",
    "ver = pd.read_csv(root / \"umfrage_warenkorb_verteilung.csv\")\n",
    "\n",
    "def growth_pct(series):\n",
    "    s0, sN = float(series.iloc[0]), float(series.iloc[-1])\n",
    "    return (sN / s0 - 1) * 100\n",
    "\n",
    "# 5‑Jahres‑Wachstum (real) LM\n",
    "g_real = growth_pct(df5[\"LM_Umsatz_real\"])\n",
    "g_nom  = growth_pct(df5[\"LM_Umsatz_nom\"])\n",
    "\n",
    "# Binomialtest: \"gestiegen\" vs. Rest\n",
    "k = int(ver.loc[ver[\"Antwort\"].isin([\"Deutlich gestiegen\",\"Etwas gestiegen\"]), \"Anzahl\"].sum())\n",
    "n = int(ver[\"Anzahl\"].sum())\n",
    "p0 = 0.5\n",
    "\n",
    "res = binomtest(k=k, n=n, p=p0, alternative=\"greater\")\n",
    "\n",
    "print(\"--- Ergebnisse ---\")\n",
    "print(f\"5‑J‑Wachstum LM nominal: {g_nom:.1f}% | real: {g_real:.1f}%\")\n",
    "print(f\"Umfrage: {k}/{n} = {k/n*100:.1f}% sehen einen Anstieg.\")\n",
    "print(f\"Binomialtest H0: p ≤ {p0:.2f}  -> p‑Wert = {res.pvalue:.4f}\")\n",
    "if res.pvalue < 0.05:\n",
    "    print(\"→ Signifikant: Mehr als die Hälfte nimmt einen Anstieg wahr.\")\n",
    "else:\n",
    "    print(\"→ Nicht signifikant auf 5%-Niveau.\")\n"
   ],
   "outputs": [
    {
     "name": "stdout",
     "output_type": "stream",
     "text": [
      "--- Ergebnisse ---\n",
      "5‑J‑Wachstum LM nominal: 23.3% | real: 17.1%\n",
      "Umfrage: 26/39 = 66.7% sehen einen Anstieg.\n",
      "Binomialtest H0: p ≤ 0.50  -> p‑Wert = 0.0266\n",
      "→ Signifikant: Mehr als die Hälfte nimmt einen Anstieg wahr.\n"
     ]
    }
   ],
   "execution_count": 3
  },
  {
   "metadata": {},
   "cell_type": "markdown",
   "source": [
    "# Hypothese\n",
    "Hypothese H0 (Nullhypothese):\n",
    "Die Mehrheit der Online-Käufer nimmt keine Erhöhung des durchschnittlichen Warenkorbwertes in den letzten fünf Jahren wahr (p ≤ 0,5).\n",
    "\n",
    "Hypothese H1 (Alternativhypothese):\n",
    "Die Mehrheit der Online-Käufer nimmt eine Erhöhung des durchschnittlichen Warenkorbwertes in den letzten fünf Jahren wahr (p > 0,5).\n",
    "\n",
    "Test: Binomialtest (einseitig, n = 39, k = 26).\n",
    "\n",
    "Ergebnis: p = 0.0266 → Signifikant → H0 verworfen → H1 bestätigt.\n",
    "\n",
    "Interpretation: Mehr als die Hälfte der Befragten sieht einen steigenden Warenkorbwert; die subjektive Wahrnehmung deckt sich mit den realen Statista-Daten (+17 % real)."
   ],
   "id": "896945d13d3711f2"
  }
 ],
 "metadata": {
  "kernelspec": {
   "name": "python3",
   "language": "python",
   "display_name": "Python 3 (ipykernel)"
  }
 },
 "nbformat": 4,
 "nbformat_minor": 5
}
