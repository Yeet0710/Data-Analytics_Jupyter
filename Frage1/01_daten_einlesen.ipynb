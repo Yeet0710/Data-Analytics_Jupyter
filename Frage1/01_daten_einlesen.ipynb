{
 "cells": [
  {
   "cell_type": "markdown",
   "id": "86a66e34",
   "metadata": {},
   "source": [
    "\n",
    "# Frage 1 – Notebook 01: Daten einlesen & vorbereiten\n",
    "\n",
    "Dieses Notebook liest die **Rohdaten** (Excel) ein, bereinigt die Jahresangaben, baut einen **Preisindex (CPI)** aus den Inflationsraten und erzeugt eine zusammengeführte, inflationsbereinigte Tabelle als CSV (`warenkorb_auswertung.csv`).  \n",
    "Die CSV ist die gemeinsame Grundlage für die weiteren Notebooks in *frage1* (Aufbereitung/Normalisierung, Plots, Tests).\n"
   ]
  },
  {
   "cell_type": "markdown",
   "id": "73e98d9d",
   "metadata": {},
   "source": [
    "\n",
    "## Voraussetzungen\n",
    "\n",
    "- Die folgenden Dateien liegen im gleichen Ordner wie dieses Notebook:\n",
    "  - `Inflationsrate.xlsx`\n",
    "  - `Umsatz Lebensmitteleinzelhandel.xlsx`\n",
    "  - `Umsatzentwicklung im Einzelhandel.xlsx`\n",
    "  - `Konsumausgaben Bekleidung und Schuhe.xlsx`\n",
    "  - `Konsumausgaben Nahrungsmittel, Getränke Tabakwaren Drogen.xlsx`\n"
   ]
  },
  {
   "cell_type": "code",
   "id": "5f6238ef",
   "metadata": {
    "ExecuteTime": {
     "end_time": "2025-08-31T10:33:54.476959Z",
     "start_time": "2025-08-31T10:33:54.464880Z"
    }
   },
   "source": [
    "\n",
    "import pandas as pd\n",
    "import numpy as np\n",
    "\n",
    "# Anzeige-Einstellungen\n",
    "pd.set_option(\"display.max_rows\", 8)\n",
    "pd.set_option(\"display.width\", 120)\n",
    "\n",
    "from pathlib import Path\n",
    "import pandas as pd\n",
    "\n",
    "# Projekt-Root ermitteln (anpassen falls nötig)\n",
    "project_root = Path(\"D:/JupyterProject\")\n",
    "\n",
    "# Datenordner\n",
    "data_path = project_root / \"data\"\n"
   ],
   "outputs": [],
   "execution_count": 19
  },
  {
   "cell_type": "markdown",
   "id": "70b8d9d6",
   "metadata": {},
   "source": [
    "## 1) Daten laden"
   ]
  },
  {
   "cell_type": "code",
   "id": "c1c3c9e6",
   "metadata": {
    "ExecuteTime": {
     "end_time": "2025-08-31T10:33:54.647948Z",
     "start_time": "2025-08-31T10:33:54.519124Z"
    }
   },
   "source": [
    "\n",
    "inflation = pd.read_excel(\n",
    "    data_path / \"Inflationsrate.xlsx\", sheet_name=1, skiprows=4, usecols=\"B:C\", names=[\"Jahr\", \"Inflation\"]\n",
    ")\n",
    "\n",
    "lm = pd.read_excel(\n",
    "    data_path / \"Umsatz Lebensmitteleinzelhandel.xlsx\", sheet_name=1, skiprows=4, usecols=\"B:C\",\n",
    "    names=[\"Jahr\", \"LM_Umsatz_nom\"]\n",
    ")\n",
    "\n",
    "einzel_vj = pd.read_excel(\n",
    "    data_path / \"Umsatzentwicklung im Einzelhandel.xlsx\", sheet_name=1, skiprows=4, usecols=\"B:C\",\n",
    "    names=[\"Jahr\", \"EH_Veraenderung_%\"]\n",
    ")\n",
    "\n",
    "bekl = pd.read_excel(\n",
    "    data_path / \"Konsumausgaben Bekleidung und Schuhe.xlsx\", sheet_name=1, skiprows=4, usecols=\"B:C\",\n",
    "    names=[\"Jahr\", \"Bekl_nom\"]\n",
    ")\n",
    "\n",
    "food = pd.read_excel(\n",
    "    data_path / \"Konsumausgaben Nahrungsmittel, Getränke Tabakwaren Drogen.xlsx\",\n",
    "    sheet_name=1, skiprows=4, usecols=\"B:C\",\n",
    "    names=[\"Jahr\", \"Food_nom\"]\n",
    ")\n",
    "\n",
    "inflation.head(), lm.head(), bekl.head(), food.head()\n"
   ],
   "outputs": [
    {
     "data": {
      "text/plain": [
       "(  Jahr  Inflation\n",
       " 0  '92        5.0\n",
       " 1  '93        4.5\n",
       " 2  '94        2.7\n",
       " 3  '95        1.9\n",
       " 4  '96        1.4,\n",
       "    Jahr  LM_Umsatz_nom\n",
       " 0  2002      126565.22\n",
       " 1  2003      136057.29\n",
       " 2  2004      136303.04\n",
       " 3  2005      145271.09\n",
       " 4  2006      145685.06,\n",
       "    Jahr  Bekl_nom\n",
       " 0  1991     57.05\n",
       " 1  1992     60.56\n",
       " 2  1993     61.67\n",
       " 3  1994     60.78\n",
       " 4  1995     60.56,\n",
       "    Jahr  Food_nom\n",
       " 0  1991    144.74\n",
       " 1  1995    153.63\n",
       " 2  2000    167.71\n",
       " 3  2001    174.24\n",
       " 4  2002    175.91)"
      ]
     },
     "execution_count": 20,
     "metadata": {},
     "output_type": "execute_result"
    }
   ],
   "execution_count": 20
  },
  {
   "cell_type": "markdown",
   "id": "4d9c6fff",
   "metadata": {},
   "source": [
    "## 2) Bereinigung (Jahre & Numerik)"
   ]
  },
  {
   "cell_type": "code",
   "id": "a2520e3b",
   "metadata": {
    "ExecuteTime": {
     "end_time": "2025-08-31T10:33:54.732339Z",
     "start_time": "2025-08-31T10:33:54.707956Z"
    }
   },
   "source": [
    "\n",
    "# a) Inflations-Jahre \"'01\" -> 2001\n",
    "def fix_year(x):\n",
    "    s = str(x).strip()\n",
    "    if s.startswith(\"'\") and len(s) == 3:  # z.B. '01\n",
    "        return 2000 + int(s[1:])\n",
    "    try:\n",
    "        return int(s)\n",
    "    except ValueError:\n",
    "        return pd.NA\n",
    "\n",
    "inflation[\"Jahr\"] = inflation[\"Jahr\"].apply(fix_year).astype(\"Int64\")\n",
    "inflation[\"Inflation\"] = pd.to_numeric(inflation[\"Inflation\"], errors=\"coerce\")\n",
    "\n",
    "# andere Tabellen: sicherstellen, dass Jahr int ist & Werte numerisch sind\n",
    "for df in (lm, einzel_vj, bekl, food):\n",
    "    df[\"Jahr\"] = pd.to_numeric(df[\"Jahr\"], errors=\"coerce\").astype(\"Int64\")\n",
    "    for col in df.columns:\n",
    "        if col != \"Jahr\":\n",
    "            df[col] = pd.to_numeric(df[col], errors=\"coerce\")\n",
    "\n",
    "inflation.tail(3), lm.tail(3)\n"
   ],
   "outputs": [
    {
     "data": {
      "text/plain": [
       "(    Jahr  Inflation\n",
       " 30  2022        6.9\n",
       " 31  2023        5.9\n",
       " 32  2024        2.2,\n",
       "     Jahr  LM_Umsatz_nom\n",
       " 19  2021      233637.02\n",
       " 20  2022      252202.65\n",
       " 21  2023      271872.98)"
      ]
     },
     "execution_count": 21,
     "metadata": {},
     "output_type": "execute_result"
    }
   ],
   "execution_count": 21
  },
  {
   "cell_type": "markdown",
   "id": "57d90921",
   "metadata": {},
   "source": [
    "## 3) Preisindex (CPI) aus Inflationsraten"
   ]
  },
  {
   "cell_type": "code",
   "id": "3256a269",
   "metadata": {
    "ExecuteTime": {
     "end_time": "2025-08-31T10:33:54.826516Z",
     "start_time": "2025-08-31T10:33:54.804992Z"
    }
   },
   "source": [
    "\n",
    "# Gemeinsames Startjahr\n",
    "first_year = max(lm[\"Jahr\"].min(), bekl[\"Jahr\"].min(), food[\"Jahr\"].min(), inflation[\"Jahr\"].min())\n",
    "\n",
    "infl = inflation[inflation[\"Jahr\"] >= first_year].sort_values(\"Jahr\").reset_index(drop=True)\n",
    "infl[\"CPI\"] = (1 + infl[\"Inflation\"] / 100.0).cumprod() * 100.0\n",
    "base_cpi = infl[\"CPI\"].iloc[0]\n",
    "infl[\"CPI\"] = infl[\"CPI\"] / base_cpi * 100.0  # Basisjahr = 100\n",
    "\n",
    "infl.head()\n"
   ],
   "outputs": [
    {
     "data": {
      "text/plain": [
       "   Jahr  Inflation         CPI\n",
       "0  2002        1.4  100.000000\n",
       "1  2003        1.0  101.000000\n",
       "2  2004        1.6  102.616000\n",
       "3  2005        1.6  104.257856\n",
       "4  2006        1.6  105.925982"
      ],
      "text/html": [
       "<div>\n",
       "<style scoped>\n",
       "    .dataframe tbody tr th:only-of-type {\n",
       "        vertical-align: middle;\n",
       "    }\n",
       "\n",
       "    .dataframe tbody tr th {\n",
       "        vertical-align: top;\n",
       "    }\n",
       "\n",
       "    .dataframe thead th {\n",
       "        text-align: right;\n",
       "    }\n",
       "</style>\n",
       "<table border=\"1\" class=\"dataframe\">\n",
       "  <thead>\n",
       "    <tr style=\"text-align: right;\">\n",
       "      <th></th>\n",
       "      <th>Jahr</th>\n",
       "      <th>Inflation</th>\n",
       "      <th>CPI</th>\n",
       "    </tr>\n",
       "  </thead>\n",
       "  <tbody>\n",
       "    <tr>\n",
       "      <th>0</th>\n",
       "      <td>2002</td>\n",
       "      <td>1.4</td>\n",
       "      <td>100.000000</td>\n",
       "    </tr>\n",
       "    <tr>\n",
       "      <th>1</th>\n",
       "      <td>2003</td>\n",
       "      <td>1.0</td>\n",
       "      <td>101.000000</td>\n",
       "    </tr>\n",
       "    <tr>\n",
       "      <th>2</th>\n",
       "      <td>2004</td>\n",
       "      <td>1.6</td>\n",
       "      <td>102.616000</td>\n",
       "    </tr>\n",
       "    <tr>\n",
       "      <th>3</th>\n",
       "      <td>2005</td>\n",
       "      <td>1.6</td>\n",
       "      <td>104.257856</td>\n",
       "    </tr>\n",
       "    <tr>\n",
       "      <th>4</th>\n",
       "      <td>2006</td>\n",
       "      <td>1.6</td>\n",
       "      <td>105.925982</td>\n",
       "    </tr>\n",
       "  </tbody>\n",
       "</table>\n",
       "</div>"
      ]
     },
     "execution_count": 22,
     "metadata": {},
     "output_type": "execute_result"
    }
   ],
   "execution_count": 22
  },
  {
   "cell_type": "markdown",
   "id": "97fdb076",
   "metadata": {},
   "source": [
    "## 4) Mergen & reale Werte rechnen"
   ]
  },
  {
   "cell_type": "code",
   "id": "84286633",
   "metadata": {
    "ExecuteTime": {
     "end_time": "2025-08-31T10:33:54.980324Z",
     "start_time": "2025-08-31T10:33:54.942664Z"
    }
   },
   "source": [
    "\n",
    "df = infl[[\"Jahr\", \"CPI\"]].merge(lm, on=\"Jahr\", how=\"inner\")\n",
    "df = df.merge(bekl, on=\"Jahr\", how=\"inner\")\n",
    "df = df.merge(food, on=\"Jahr\", how=\"inner\")\n",
    "\n",
    "# reale Werte = nominal * (100 / CPI)\n",
    "df[\"LM_Umsatz_real\"] = df[\"LM_Umsatz_nom\"] * (100.0 / df[\"CPI\"])\n",
    "df[\"Bekl_real\"]      = df[\"Bekl_nom\"]      * (100.0 / df[\"CPI\"])\n",
    "df[\"Food_real\"]      = df[\"Food_nom\"]      * (100.0 / df[\"CPI\"])\n",
    "\n",
    "df.head()\n"
   ],
   "outputs": [
    {
     "data": {
      "text/plain": [
       "   Jahr         CPI  LM_Umsatz_nom  Bekl_nom  Food_nom  LM_Umsatz_real  Bekl_real   Food_real\n",
       "0  2002  100.000000      126565.22     62.51    175.91   126565.220000  62.510000  175.910000\n",
       "1  2003  101.000000      136057.29     61.86    175.69   134710.188119  61.247525  173.950495\n",
       "2  2004  102.616000      136303.04     60.59    178.54   132828.252904  59.045373  173.988462\n",
       "3  2005  104.257856      145271.09     59.85    183.05   139338.267229  57.405746  175.574299\n",
       "4  2006  105.925982      145685.06     61.00    185.74   137534.774441  57.587382  175.348859"
      ],
      "text/html": [
       "<div>\n",
       "<style scoped>\n",
       "    .dataframe tbody tr th:only-of-type {\n",
       "        vertical-align: middle;\n",
       "    }\n",
       "\n",
       "    .dataframe tbody tr th {\n",
       "        vertical-align: top;\n",
       "    }\n",
       "\n",
       "    .dataframe thead th {\n",
       "        text-align: right;\n",
       "    }\n",
       "</style>\n",
       "<table border=\"1\" class=\"dataframe\">\n",
       "  <thead>\n",
       "    <tr style=\"text-align: right;\">\n",
       "      <th></th>\n",
       "      <th>Jahr</th>\n",
       "      <th>CPI</th>\n",
       "      <th>LM_Umsatz_nom</th>\n",
       "      <th>Bekl_nom</th>\n",
       "      <th>Food_nom</th>\n",
       "      <th>LM_Umsatz_real</th>\n",
       "      <th>Bekl_real</th>\n",
       "      <th>Food_real</th>\n",
       "    </tr>\n",
       "  </thead>\n",
       "  <tbody>\n",
       "    <tr>\n",
       "      <th>0</th>\n",
       "      <td>2002</td>\n",
       "      <td>100.000000</td>\n",
       "      <td>126565.22</td>\n",
       "      <td>62.51</td>\n",
       "      <td>175.91</td>\n",
       "      <td>126565.220000</td>\n",
       "      <td>62.510000</td>\n",
       "      <td>175.910000</td>\n",
       "    </tr>\n",
       "    <tr>\n",
       "      <th>1</th>\n",
       "      <td>2003</td>\n",
       "      <td>101.000000</td>\n",
       "      <td>136057.29</td>\n",
       "      <td>61.86</td>\n",
       "      <td>175.69</td>\n",
       "      <td>134710.188119</td>\n",
       "      <td>61.247525</td>\n",
       "      <td>173.950495</td>\n",
       "    </tr>\n",
       "    <tr>\n",
       "      <th>2</th>\n",
       "      <td>2004</td>\n",
       "      <td>102.616000</td>\n",
       "      <td>136303.04</td>\n",
       "      <td>60.59</td>\n",
       "      <td>178.54</td>\n",
       "      <td>132828.252904</td>\n",
       "      <td>59.045373</td>\n",
       "      <td>173.988462</td>\n",
       "    </tr>\n",
       "    <tr>\n",
       "      <th>3</th>\n",
       "      <td>2005</td>\n",
       "      <td>104.257856</td>\n",
       "      <td>145271.09</td>\n",
       "      <td>59.85</td>\n",
       "      <td>183.05</td>\n",
       "      <td>139338.267229</td>\n",
       "      <td>57.405746</td>\n",
       "      <td>175.574299</td>\n",
       "    </tr>\n",
       "    <tr>\n",
       "      <th>4</th>\n",
       "      <td>2006</td>\n",
       "      <td>105.925982</td>\n",
       "      <td>145685.06</td>\n",
       "      <td>61.00</td>\n",
       "      <td>185.74</td>\n",
       "      <td>137534.774441</td>\n",
       "      <td>57.587382</td>\n",
       "      <td>175.348859</td>\n",
       "    </tr>\n",
       "  </tbody>\n",
       "</table>\n",
       "</div>"
      ]
     },
     "execution_count": 23,
     "metadata": {},
     "output_type": "execute_result"
    }
   ],
   "execution_count": 23
  },
  {
   "cell_type": "markdown",
   "id": "1dd25ebf",
   "metadata": {},
   "source": [
    "## 5) Kurz-Auswertung (CAGR-Beispiel)"
   ]
  },
  {
   "cell_type": "code",
   "id": "9301b589",
   "metadata": {
    "ExecuteTime": {
     "end_time": "2025-08-31T10:33:55.350786Z",
     "start_time": "2025-08-31T10:33:55.332423Z"
    }
   },
   "source": [
    "\n",
    "def cagr(series, years):\n",
    "    series = series.dropna()\n",
    "    years  = years.loc[series.index]\n",
    "    s0, sN = float(series.iloc[0]), float(series.iloc[-1])\n",
    "    n = int(years.iloc[-1] - years.iloc[0])\n",
    "    if s0 <= 0 or n <= 0:\n",
    "        return np.nan\n",
    "    return (sN / s0) ** (1 / n) - 1\n",
    "\n",
    "for label_nom, label_real in [\n",
    "    (\"LM_Umsatz_nom\", \"LM_Umsatz_real\"),\n",
    "    (\"Bekl_nom\", \"Bekl_real\"),\n",
    "    (\"Food_nom\", \"Food_real\"),\n",
    "]:\n",
    "    g_nom  = cagr(df[label_nom], df[\"Jahr\"])\n",
    "    g_real = cagr(df[label_real], df[\"Jahr\"])\n",
    "    print(f\"{label_nom}: CAGR nominal = {g_nom:.2%}, real = {g_real:.2%}\")\n"
   ],
   "outputs": [
    {
     "name": "stdout",
     "output_type": "stream",
     "text": [
      "LM_Umsatz_nom: CAGR nominal = 3.24%, real = 1.84%\n",
      "Bekl_nom: CAGR nominal = 0.92%, real = -0.45%\n",
      "Food_nom: CAGR nominal = 2.14%, real = 0.76%\n"
     ]
    }
   ],
   "execution_count": 24
  },
  {
   "cell_type": "markdown",
   "id": "924b3d97",
   "metadata": {},
   "source": [
    "## 6) Persistieren: saubere CSV für Folge-Notebooks"
   ]
  },
  {
   "cell_type": "code",
   "id": "f9f6f359",
   "metadata": {
    "ExecuteTime": {
     "end_time": "2025-08-31T10:33:55.574685Z",
     "start_time": "2025-08-31T10:33:55.544897Z"
    }
   },
   "source": [
    "\n",
    "out_csv = \"warenkorb_auswertung.csv\"\n",
    "df.to_csv(out_csv, index=False)\n",
    "print(\"Gespeichert:\", out_csv, \"->\", len(df), \"Zeilen\")\n",
    "df.tail(3)\n"
   ],
   "outputs": [
    {
     "name": "stdout",
     "output_type": "stream",
     "text": [
      "Gespeichert: warenkorb_auswertung.csv -> 19 Zeilen\n"
     ]
    },
    {
     "data": {
      "text/plain": [
       "    Jahr         CPI  LM_Umsatz_nom  Bekl_nom  Food_nom  LM_Umsatz_real  Bekl_real   Food_real\n",
       "16  2018  125.489168      197272.60     79.97    232.57   157202.891515  63.726616  185.330738\n",
       "17  2019  127.246016      216323.77     77.93    240.22   170004.356048  61.243568  188.783907\n",
       "18  2020  127.882246      224559.32     73.65    257.71   175598.511118  57.592044  201.521328"
      ],
      "text/html": [
       "<div>\n",
       "<style scoped>\n",
       "    .dataframe tbody tr th:only-of-type {\n",
       "        vertical-align: middle;\n",
       "    }\n",
       "\n",
       "    .dataframe tbody tr th {\n",
       "        vertical-align: top;\n",
       "    }\n",
       "\n",
       "    .dataframe thead th {\n",
       "        text-align: right;\n",
       "    }\n",
       "</style>\n",
       "<table border=\"1\" class=\"dataframe\">\n",
       "  <thead>\n",
       "    <tr style=\"text-align: right;\">\n",
       "      <th></th>\n",
       "      <th>Jahr</th>\n",
       "      <th>CPI</th>\n",
       "      <th>LM_Umsatz_nom</th>\n",
       "      <th>Bekl_nom</th>\n",
       "      <th>Food_nom</th>\n",
       "      <th>LM_Umsatz_real</th>\n",
       "      <th>Bekl_real</th>\n",
       "      <th>Food_real</th>\n",
       "    </tr>\n",
       "  </thead>\n",
       "  <tbody>\n",
       "    <tr>\n",
       "      <th>16</th>\n",
       "      <td>2018</td>\n",
       "      <td>125.489168</td>\n",
       "      <td>197272.60</td>\n",
       "      <td>79.97</td>\n",
       "      <td>232.57</td>\n",
       "      <td>157202.891515</td>\n",
       "      <td>63.726616</td>\n",
       "      <td>185.330738</td>\n",
       "    </tr>\n",
       "    <tr>\n",
       "      <th>17</th>\n",
       "      <td>2019</td>\n",
       "      <td>127.246016</td>\n",
       "      <td>216323.77</td>\n",
       "      <td>77.93</td>\n",
       "      <td>240.22</td>\n",
       "      <td>170004.356048</td>\n",
       "      <td>61.243568</td>\n",
       "      <td>188.783907</td>\n",
       "    </tr>\n",
       "    <tr>\n",
       "      <th>18</th>\n",
       "      <td>2020</td>\n",
       "      <td>127.882246</td>\n",
       "      <td>224559.32</td>\n",
       "      <td>73.65</td>\n",
       "      <td>257.71</td>\n",
       "      <td>175598.511118</td>\n",
       "      <td>57.592044</td>\n",
       "      <td>201.521328</td>\n",
       "    </tr>\n",
       "  </tbody>\n",
       "</table>\n",
       "</div>"
      ]
     },
     "execution_count": 25,
     "metadata": {},
     "output_type": "execute_result"
    }
   ],
   "execution_count": 25
  }
 ],
 "metadata": {
  "kernelspec": {
   "name": "python3",
   "language": "python",
   "display_name": "Python 3 (ipykernel)"
  }
 },
 "nbformat": 4,
 "nbformat_minor": 5
}
