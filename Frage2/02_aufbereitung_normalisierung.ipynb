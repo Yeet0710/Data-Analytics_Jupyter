{
 "cells": [
  {
   "cell_type": "markdown",
   "id": "7d253500",
   "metadata": {},
   "source": [
    "\n",
    "# Frage 2 – Notebook 02: Aufbereitung & Normalisierung\n",
    "\n",
    "Dieses Notebook:\n",
    "- vereinheitlicht die Kategorien der Online-Zahlungsarten (2019/2021/2023),\n",
    "- führt die Jahre zusammen,\n",
    "- bereitet die Umfrage (Mehrfachantworten) auf,\n",
    "- persistiert normalisierte Tabellen als CSV.\n"
   ]
  },
  {
   "cell_type": "markdown",
   "id": "70e5c66a",
   "metadata": {},
   "source": [
    "## Pfade & Imports"
   ]
  },
  {
   "cell_type": "code",
   "id": "1222aa33",
   "metadata": {
    "ExecuteTime": {
     "end_time": "2025-08-31T09:39:41.538795Z",
     "start_time": "2025-08-31T09:39:41.145245Z"
    }
   },
   "source": [
    "\n",
    "from pathlib import Path\n",
    "import pandas as pd\n",
    "import re\n",
    "\n",
    "# Projekt-Root ermitteln (ggf. anpassen)\n",
    "project_root = Path(\"D:/JupyterProject\")\n",
    "data_path = project_root / \"data\"\n",
    "out = project_root / \"Frage2\"\n",
    "out.mkdir(exist_ok=True, parents=True)\n",
    "\n",
    "pd.set_option(\"display.width\", 140)\n"
   ],
   "outputs": [],
   "execution_count": 1
  },
  {
   "cell_type": "markdown",
   "id": "ebec44e6",
   "metadata": {},
   "source": [
    "## 1) Roh-CSV laden"
   ]
  },
  {
   "cell_type": "code",
   "id": "72d993cd",
   "metadata": {
    "ExecuteTime": {
     "end_time": "2025-08-31T09:39:41.576894Z",
     "start_time": "2025-08-31T09:39:41.555449Z"
    }
   },
   "source": [
    "\n",
    "df2019 = pd.read_csv(out / \"online2019_raw.csv\")\n",
    "df2021 = pd.read_csv(out / \"online2021_raw.csv\")\n",
    "df2023 = pd.read_csv(out / \"online2023_raw.csv\")\n",
    "stationär = pd.read_csv(out / \"stationaer_raw.csv\")\n",
    "umf = pd.read_csv(out / \"umfrage_raw.csv\")\n"
   ],
   "outputs": [],
   "execution_count": 2
  },
  {
   "cell_type": "markdown",
   "id": "7e7a5a08",
   "metadata": {},
   "source": [
    "## 2) Normalisierungs-Mappings"
   ]
  },
  {
   "cell_type": "code",
   "id": "a4b51de7",
   "metadata": {
    "ExecuteTime": {
     "end_time": "2025-08-31T09:39:41.624005Z",
     "start_time": "2025-08-31T09:39:41.585126Z"
    }
   },
   "source": [
    "\n",
    "norm23 = {\n",
    "    \"E-Wallet (Paypal, Alipay)\": \"E-Wallet\",\n",
    "    \"Per Rechnung (und Zahlschein)\": \"Rechnung\",\n",
    "    \"Klarna\": \"BNPL (Klarna)\",\n",
    "    \"Kreditkarte einer inländischen Bank / Debitkarte\": \"Kreditkarte\",\n",
    "    \"Visa / Mastercard\": \"Kreditkarte\",\n",
    "    \"Banküberweisung\": \"Überweisung/Online-Transfer\",\n",
    "    \"Direct debit\": \"Lastschrift/SEPA\",\n",
    "    \"Sofort\": \"Überweisung/Online-Transfer\",\n",
    "    \"Mobile Bezahl-App\": \"Mobile Wallet\",\n",
    "    \"Virtuelle Währungen (Bitcoin)\": \"Krypto\"\n",
    "}\n",
    "norm21 = {\n",
    "    \"E-Wallets\": \"E-Wallet\",\n",
    "    \"Auf Rechnung\": \"Rechnung\",\n",
    "    \"Bezahlung mit Kreditkarte\": \"Kreditkarte\",\n",
    "    \"SEPA-Direktmandat\": \"Lastschrift/SEPA\",\n",
    "    \"Online-Transfer\": \"Überweisung/Online-Transfer\",\n",
    "    \"Mobile Geldbörsen\": \"Mobile Wallet\",\n",
    "    \"Lieferung per Nachnahme\": \"Nachnahme\",\n",
    "}\n",
    "norm19 = {\n",
    "    \"Über einen Bezahldienstleister (z.B. Paypal)\": \"E-Wallet\",\n",
    "    \"Rechnung\": \"Rechnung\",\n",
    "    \"Kreditkarte\": \"Kreditkarte\",\n",
    "    \"Per Überweisung\": \"Überweisung/Online-Transfer\",\n",
    "    \"Per Lastschrift\": \"Lastschrift/SEPA\",\n",
    "    \"Sofortüberweisung\": \"Überweisung/Online-Transfer\",\n",
    "    \"Vorkasse\": \"Nachnahme\"\n",
    "}\n",
    "\n",
    "def normalize(df, mapping):\n",
    "    d = df.copy()\n",
    "    d[\"Methode\"] = d[\"Methode\"].astype(str).str.strip()\n",
    "    d[\"Kategorie\"] = d[\"Methode\"].map(mapping).fillna(d[\"Methode\"])\n",
    "    d[\"Prozent\"] = pd.to_numeric(d[\"Prozent\"], errors=\"coerce\")\n",
    "    return d.groupby(\"Kategorie\", as_index=False)[\"Prozent\"].sum()\n",
    "\n",
    "n19 = normalize(df2019, norm19).rename(columns={\"Prozent\":\"pct_2019\"})\n",
    "n21 = normalize(df2021, norm21).rename(columns={\"Prozent\":\"pct_2021\"})\n",
    "n23 = normalize(df2023, norm23).rename(columns={\"Prozent\":\"pct_2023\"})\n",
    "\n",
    "online_merged = n23.merge(n21, on=\"Kategorie\", how=\"outer\").merge(n19, on=\"Kategorie\", how=\"outer\")\n",
    "online_merged.to_csv(out / \"online_normalisiert.csv\", index=False)\n",
    "online_merged.sort_values(\"pct_2023\", ascending=False).head(10)\n"
   ],
   "outputs": [
    {
     "data": {
      "text/plain": [
       "                                            Kategorie  pct_2023  pct_2021  pct_2019\n",
       "5                                            E-Wallet      65.0      39.0      42.1\n",
       "8                                         Kreditkarte      54.0      10.0      10.1\n",
       "13                                           Rechnung      43.0      23.0      28.5\n",
       "15                        Überweisung/Online-Transfer      34.0       6.0      11.3\n",
       "2                                       BNPL (Klarna)      28.0       NaN       NaN\n",
       "10                                   Lastschrift/SEPA      20.0       8.0       5.7\n",
       "14  Voucher ePay / Geschenkkarte eines Geschäfts /...      18.0       NaN       NaN\n",
       "6                                             Giropay       9.0       NaN       NaN\n",
       "3                               Bezahlung im Geschäft       9.0       NaN       NaN\n",
       "7                                     Kauf auf Kredit       8.0       NaN       NaN"
      ],
      "text/html": [
       "<div>\n",
       "<style scoped>\n",
       "    .dataframe tbody tr th:only-of-type {\n",
       "        vertical-align: middle;\n",
       "    }\n",
       "\n",
       "    .dataframe tbody tr th {\n",
       "        vertical-align: top;\n",
       "    }\n",
       "\n",
       "    .dataframe thead th {\n",
       "        text-align: right;\n",
       "    }\n",
       "</style>\n",
       "<table border=\"1\" class=\"dataframe\">\n",
       "  <thead>\n",
       "    <tr style=\"text-align: right;\">\n",
       "      <th></th>\n",
       "      <th>Kategorie</th>\n",
       "      <th>pct_2023</th>\n",
       "      <th>pct_2021</th>\n",
       "      <th>pct_2019</th>\n",
       "    </tr>\n",
       "  </thead>\n",
       "  <tbody>\n",
       "    <tr>\n",
       "      <th>5</th>\n",
       "      <td>E-Wallet</td>\n",
       "      <td>65.0</td>\n",
       "      <td>39.0</td>\n",
       "      <td>42.1</td>\n",
       "    </tr>\n",
       "    <tr>\n",
       "      <th>8</th>\n",
       "      <td>Kreditkarte</td>\n",
       "      <td>54.0</td>\n",
       "      <td>10.0</td>\n",
       "      <td>10.1</td>\n",
       "    </tr>\n",
       "    <tr>\n",
       "      <th>13</th>\n",
       "      <td>Rechnung</td>\n",
       "      <td>43.0</td>\n",
       "      <td>23.0</td>\n",
       "      <td>28.5</td>\n",
       "    </tr>\n",
       "    <tr>\n",
       "      <th>15</th>\n",
       "      <td>Überweisung/Online-Transfer</td>\n",
       "      <td>34.0</td>\n",
       "      <td>6.0</td>\n",
       "      <td>11.3</td>\n",
       "    </tr>\n",
       "    <tr>\n",
       "      <th>2</th>\n",
       "      <td>BNPL (Klarna)</td>\n",
       "      <td>28.0</td>\n",
       "      <td>NaN</td>\n",
       "      <td>NaN</td>\n",
       "    </tr>\n",
       "    <tr>\n",
       "      <th>10</th>\n",
       "      <td>Lastschrift/SEPA</td>\n",
       "      <td>20.0</td>\n",
       "      <td>8.0</td>\n",
       "      <td>5.7</td>\n",
       "    </tr>\n",
       "    <tr>\n",
       "      <th>14</th>\n",
       "      <td>Voucher ePay / Geschenkkarte eines Geschäfts /...</td>\n",
       "      <td>18.0</td>\n",
       "      <td>NaN</td>\n",
       "      <td>NaN</td>\n",
       "    </tr>\n",
       "    <tr>\n",
       "      <th>6</th>\n",
       "      <td>Giropay</td>\n",
       "      <td>9.0</td>\n",
       "      <td>NaN</td>\n",
       "      <td>NaN</td>\n",
       "    </tr>\n",
       "    <tr>\n",
       "      <th>3</th>\n",
       "      <td>Bezahlung im Geschäft</td>\n",
       "      <td>9.0</td>\n",
       "      <td>NaN</td>\n",
       "      <td>NaN</td>\n",
       "    </tr>\n",
       "    <tr>\n",
       "      <th>7</th>\n",
       "      <td>Kauf auf Kredit</td>\n",
       "      <td>8.0</td>\n",
       "      <td>NaN</td>\n",
       "      <td>NaN</td>\n",
       "    </tr>\n",
       "  </tbody>\n",
       "</table>\n",
       "</div>"
      ]
     },
     "execution_count": 3,
     "metadata": {},
     "output_type": "execute_result"
    }
   ],
   "execution_count": 3
  },
  {
   "cell_type": "markdown",
   "id": "fce0ce21",
   "metadata": {},
   "source": [
    "## 3) Umfrage normalisieren (AP/AQ)"
   ]
  },
  {
   "cell_type": "code",
   "id": "35b29651",
   "metadata": {
    "ExecuteTime": {
     "end_time": "2025-08-31T09:39:41.730535Z",
     "start_time": "2025-08-31T09:39:41.694243Z"
    }
   },
   "source": [
    "\n",
    "def clean_text(s):\n",
    "    if pd.isna(s): return \"\"\n",
    "    return str(s).replace(\"\\xa0\", \" \").replace(\"„\",\"\").replace(\"“\",\"\").strip()\n",
    "\n",
    "def norm_method(token):\n",
    "    t = clean_text(token)\n",
    "    t = re.sub(r\"buy\\s*now\\s*pay\\s*later.*\", \"BNPL (Klarna)\", t, flags=re.I)\n",
    "    t = re.sub(r\"krypto.*\", \"Krypto\", t, flags=re.I)\n",
    "    mapping = {\n",
    "        \"paypal\": \"E-Wallet\",\n",
    "        \"kreditkarte\": \"Kreditkarte\",\n",
    "        \"rechnung\": \"Rechnung\",\n",
    "        \"lastschrift\": \"Lastschrift/SEPA\",\n",
    "        \"sofortüberweisung\": \"Überweisung/Online-Transfer\",\n",
    "        \"apple pay\": \"Mobile Wallet\",\n",
    "        \"bnpl (klarna)\": \"BNPL (Klarna)\",\n",
    "    }\n",
    "    return mapping.get(t.lower(), t)\n",
    "\n",
    "# Zahlungsarten-Mehrfachauswahl\n",
    "methods = (umf[\"Zahlungsarten\"].astype(str).map(clean_text).str.split(\";\", expand=False)\n",
    "           .explode().dropna().map(norm_method).str.strip())\n",
    "methods = methods[methods.ne(\"\")]\n",
    "umfrage_counts = methods.value_counts().rename_axis(\"Kategorie\").reset_index(name=\"Anzahl\")\n",
    "umfrage_counts[\"pct_umfrage\"] = (umfrage_counts[\"Anzahl\"] / len(umf) * 100).round(1)\n",
    "\n",
    "# BNPL-Veränderung\n",
    "bnpl = (umf[\"BNPL_Veraenderung\"].fillna(\"\").astype(str).str.strip())\n",
    "bnpl_counts = (bnpl.replace({\"Ich habe BNPL noch nie genutzt\":\"Nie\",\n",
    "                             \"Ich nutze BNPL häufiger als früher\":\"Häufiger\",\n",
    "                             \"Ich nutze BNPL etwa gleich häufig\":\"Gleich\",\n",
    "                             \"Ich nutze BNPL seltener als früher\":\"Seltener\"})\n",
    "                    .value_counts().rename_axis(\"Antwort\").reset_index(name=\"Anzahl\"))\n",
    "\n",
    "umfrage_counts.to_csv(out / \"umfrage_methods_norm.csv\", index=False)\n",
    "bnpl_counts.to_csv(out / \"umfrage_bnpl_counts.csv\", index=False)\n",
    "\n",
    "umfrage_counts.head(), bnpl_counts.head()\n"
   ],
   "outputs": [
    {
     "data": {
      "text/plain": [
       "(          Kategorie  Anzahl  pct_umfrage\n",
       " 0          E-Wallet      32         82.1\n",
       " 1       Kreditkarte      16         41.0\n",
       " 2  Lastschrift/SEPA      13         33.3\n",
       " 3          Rechnung      13         33.3\n",
       " 4     BNPL (Klarna)       6         15.4,\n",
       "     Antwort  Anzahl\n",
       " 0       Nie      28\n",
       " 1  Häufiger       5\n",
       " 2  Seltener       4\n",
       " 3    Gleich       2)"
      ]
     },
     "execution_count": 4,
     "metadata": {},
     "output_type": "execute_result"
    }
   ],
   "execution_count": 4
  }
 ],
 "metadata": {
  "kernelspec": {
   "name": "python3",
   "language": "python",
   "display_name": "Python 3 (ipykernel)"
  }
 },
 "nbformat": 4,
 "nbformat_minor": 5
}
